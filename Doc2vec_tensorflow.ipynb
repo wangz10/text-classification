{
 "cells": [
  {
   "cell_type": "code",
   "execution_count": 1,
   "metadata": {
    "collapsed": true
   },
   "outputs": [],
   "source": [
    "import sys\n",
    "import cPickle as pickle\n",
    "import numpy as np\n",
    "import pandas as pd\n",
    "import tensorflow as tf\n",
    "from tensorflow.contrib import learn\n",
    "from nltk.tokenize import RegexpTokenizer\n",
    "\n",
    "from utils import *\n",
    "\n",
    "sys.path.append('../tensorflow-playground/')\n",
    "from doc2vec import Doc2Vec"
   ]
  },
  {
   "cell_type": "code",
   "execution_count": 2,
   "metadata": {
    "collapsed": false
   },
   "outputs": [
    {
     "name": "stdout",
     "output_type": "stream",
     "text": [
      "(31905, 3)\n"
     ]
    },
    {
     "data": {
      "text/html": [
       "<div style=\"max-height:1000px;max-width:1500px;overflow:auto;\">\n",
       "<table border=\"1\" class=\"dataframe\">\n",
       "  <thead>\n",
       "    <tr style=\"text-align: right;\">\n",
       "      <th></th>\n",
       "      <th>Series_summary</th>\n",
       "      <th>Series_title</th>\n",
       "      <th>label</th>\n",
       "    </tr>\n",
       "    <tr>\n",
       "      <th>id</th>\n",
       "      <th></th>\n",
       "      <th></th>\n",
       "      <th></th>\n",
       "    </tr>\n",
       "  </thead>\n",
       "  <tbody>\n",
       "    <tr>\n",
       "      <th>GSE1</th>\n",
       "      <td>This series represents a group of cutaneous ma...</td>\n",
       "      <td>NHGRI_Melanoma_class</td>\n",
       "      <td>NaN</td>\n",
       "    </tr>\n",
       "    <tr>\n",
       "      <th>GSE1000</th>\n",
       "      <td>Amino acid conjugated surfaces and controls at...</td>\n",
       "      <td>Osteosarcoma TE85 cell tissue culture study</td>\n",
       "      <td>NaN</td>\n",
       "    </tr>\n",
       "    <tr>\n",
       "      <th>GSE10000</th>\n",
       "      <td>We previously observed that formation of aorta...</td>\n",
       "      <td>Age-dependent aorta transcriptomes in wild-typ...</td>\n",
       "      <td>NaN</td>\n",
       "    </tr>\n",
       "    <tr>\n",
       "      <th>GSE10001</th>\n",
       "      <td>The thyroid hormone receptor (TR) has been pro...</td>\n",
       "      <td>Gene expression profiling in NCoR deficient mo...</td>\n",
       "      <td>NaN</td>\n",
       "    </tr>\n",
       "    <tr>\n",
       "      <th>GSE10002</th>\n",
       "      <td>Primitive erythropoiesis in the mouse yolk sac...</td>\n",
       "      <td>Identification of Erythroid-Enriched Gene Expr...</td>\n",
       "      <td>NaN</td>\n",
       "    </tr>\n",
       "  </tbody>\n",
       "</table>\n",
       "</div>"
      ],
      "text/plain": [
       "                                             Series_summary  \\\n",
       "id                                                            \n",
       "GSE1      This series represents a group of cutaneous ma...   \n",
       "GSE1000   Amino acid conjugated surfaces and controls at...   \n",
       "GSE10000  We previously observed that formation of aorta...   \n",
       "GSE10001  The thyroid hormone receptor (TR) has been pro...   \n",
       "GSE10002  Primitive erythropoiesis in the mouse yolk sac...   \n",
       "\n",
       "                                               Series_title label  \n",
       "id                                                                 \n",
       "GSE1                                   NHGRI_Melanoma_class   NaN  \n",
       "GSE1000         Osteosarcoma TE85 cell tissue culture study   NaN  \n",
       "GSE10000  Age-dependent aorta transcriptomes in wild-typ...   NaN  \n",
       "GSE10001  Gene expression profiling in NCoR deficient mo...   NaN  \n",
       "GSE10002  Identification of Erythroid-Enriched Gene Expr...   NaN  "
      ]
     },
     "execution_count": 2,
     "metadata": {},
     "output_type": "execute_result"
    }
   ],
   "source": [
    "# Load the GSEs df\n",
    "df = pd.read_csv('data/GSEs_texts_with_labels.csv').set_index('id')\n",
    "df[['Series_summary', 'Series_title']] = df[['Series_summary', 'Series_title']].fillna('')\n",
    "print df.shape\n",
    "df.head()"
   ]
  },
  {
   "cell_type": "code",
   "execution_count": 3,
   "metadata": {
    "collapsed": false
   },
   "outputs": [
    {
     "name": "stdout",
     "output_type": "stream",
     "text": [
      "(1785, 5)\n"
     ]
    },
    {
     "data": {
      "text/html": [
       "<div style=\"max-height:1000px;max-width:1500px;overflow:auto;\">\n",
       "<table border=\"1\" class=\"dataframe\">\n",
       "  <thead>\n",
       "    <tr style=\"text-align: right;\">\n",
       "      <th></th>\n",
       "      <th>Series_summary</th>\n",
       "      <th>Series_title</th>\n",
       "      <th>label</th>\n",
       "      <th>label_code</th>\n",
       "      <th>split</th>\n",
       "    </tr>\n",
       "    <tr>\n",
       "      <th>id</th>\n",
       "      <th></th>\n",
       "      <th></th>\n",
       "      <th></th>\n",
       "      <th></th>\n",
       "      <th></th>\n",
       "    </tr>\n",
       "  </thead>\n",
       "  <tbody>\n",
       "    <tr>\n",
       "      <th>GSE1001</th>\n",
       "      <td>Sprague-Dawley rat retina post-injury and cont...</td>\n",
       "      <td>retina injury timecourse</td>\n",
       "      <td>dz</td>\n",
       "      <td>1</td>\n",
       "      <td>0</td>\n",
       "    </tr>\n",
       "    <tr>\n",
       "      <th>GSE10064</th>\n",
       "      <td>This study aims to determine if global gene ex...</td>\n",
       "      <td>Gene expression in immortalized B-lymphocytes ...</td>\n",
       "      <td>dz</td>\n",
       "      <td>1</td>\n",
       "      <td>0</td>\n",
       "    </tr>\n",
       "    <tr>\n",
       "      <th>GSE10082</th>\n",
       "      <td>Conventional biochemical and molecular techniq...</td>\n",
       "      <td>Aryl Hydrocarbon Receptor Regulates Distinct D...</td>\n",
       "      <td>gene</td>\n",
       "      <td>2</td>\n",
       "      <td>0</td>\n",
       "    </tr>\n",
       "    <tr>\n",
       "      <th>GSE1009</th>\n",
       "      <td>Gene expression profiling in glomeruli from hu...</td>\n",
       "      <td>Diabetic nephropathy</td>\n",
       "      <td>dz</td>\n",
       "      <td>1</td>\n",
       "      <td>0</td>\n",
       "    </tr>\n",
       "    <tr>\n",
       "      <th>GSE1010</th>\n",
       "      <td>RNA samples prepared from lymphoblastic cells ...</td>\n",
       "      <td>FCHL study</td>\n",
       "      <td>dz</td>\n",
       "      <td>1</td>\n",
       "      <td>0</td>\n",
       "    </tr>\n",
       "  </tbody>\n",
       "</table>\n",
       "</div>"
      ],
      "text/plain": [
       "                                             Series_summary  \\\n",
       "id                                                            \n",
       "GSE1001   Sprague-Dawley rat retina post-injury and cont...   \n",
       "GSE10064  This study aims to determine if global gene ex...   \n",
       "GSE10082  Conventional biochemical and molecular techniq...   \n",
       "GSE1009   Gene expression profiling in glomeruli from hu...   \n",
       "GSE1010   RNA samples prepared from lymphoblastic cells ...   \n",
       "\n",
       "                                               Series_title label  label_code  \\\n",
       "id                                                                              \n",
       "GSE1001                            retina injury timecourse    dz           1   \n",
       "GSE10064  Gene expression in immortalized B-lymphocytes ...    dz           1   \n",
       "GSE10082  Aryl Hydrocarbon Receptor Regulates Distinct D...  gene           2   \n",
       "GSE1009                                Diabetic nephropathy    dz           1   \n",
       "GSE1010                                          FCHL study    dz           1   \n",
       "\n",
       "          split  \n",
       "id               \n",
       "GSE1001       0  \n",
       "GSE10064      0  \n",
       "GSE10082      0  \n",
       "GSE1009       0  \n",
       "GSE1010       0  "
      ]
     },
     "execution_count": 3,
     "metadata": {},
     "output_type": "execute_result"
    }
   ],
   "source": [
    "# load the labeled df\n",
    "df_labeled = pd.read_csv('data/Labeled_GSEs_texts_with_labels.csv').set_index('id')\n",
    "df_labeled = df_labeled.fillna('')\n",
    "print df_labeled.shape\n",
    "df_labeled.head()"
   ]
  },
  {
   "cell_type": "code",
   "execution_count": 4,
   "metadata": {
    "collapsed": false
   },
   "outputs": [
    {
     "name": "stdout",
     "output_type": "stream",
     "text": [
      "31905 documents collected.\n"
     ]
    }
   ],
   "source": [
    "tokenizer = RegexpTokenizer(r\"(?u)\\b\\w\\w+\\b\")\n",
    "\n",
    "alldocs = []\n",
    "for i, row in df.iterrows():\n",
    "# for i, row in df_labeled.iterrows():\n",
    "    tokens = tokenizer.tokenize(row['Series_summary'])\n",
    "    alldocs.append(tokens)\n",
    "\n",
    "print '%d documents collected.' % len(alldocs)    "
   ]
  },
  {
   "cell_type": "code",
   "execution_count": 27,
   "metadata": {
    "collapsed": false
   },
   "outputs": [
    {
     "name": "stdout",
     "output_type": "stream",
     "text": [
      "Initialized\n",
      "Average loss at step 0: 6.987235\n",
      "Average loss at step 2000: 4.023542\n",
      "Average loss at step 4000: 3.491124\n"
     ]
    },
    {
     "data": {
      "text/plain": [
       "Doc2Vec(architecture='pvdm', batch_size=128, concat=True, document_size=31905,\n",
       "    embedding_size_d=100, embedding_size_w=100, learning_rate=0.025,\n",
       "    loss_type='sampled_softmax_loss', n_neg_samples=64, n_steps=5001,\n",
       "    optimize='Adagrad', vocabulary_size=50000, window_size=8)"
      ]
     },
     "execution_count": 27,
     "metadata": {},
     "output_type": "execute_result"
    }
   ],
   "source": [
    "# PV-DM model concatenating word vectors and doc vector\n",
    "pvdm = Doc2Vec(batch_size=128, window_size=8, \n",
    "               concat=True, architecture='pvdm', \n",
    "               embedding_size_w=100, \n",
    "               embedding_size_d=100,\n",
    "               vocabulary_size=50000, document_size=len(alldocs),\n",
    "               loss_type='sampled_softmax_loss', n_neg_samples=64,\n",
    "               optimize='Adagrad', learning_rate=0.025, n_steps=5001)\n",
    "pvdm.fit(alldocs)"
   ]
  },
  {
   "cell_type": "code",
   "execution_count": 6,
   "metadata": {
    "collapsed": false
   },
   "outputs": [
    {
     "name": "stdout",
     "output_type": "stream",
     "text": [
      "Initialized\n",
      "Average loss at step 0: 6.908161\n",
      "Average loss at step 2000: 4.370573\n",
      "Average loss at step 4000: 3.641112\n",
      "Average loss at step 6000: 3.474434\n",
      "Average loss at step 8000: 3.225485\n",
      "Average loss at step 10000: 3.139582\n",
      "Average loss at step 12000: 3.067585\n",
      "Average loss at step 14000: 2.994210\n",
      "Average loss at step 16000: 2.962597\n",
      "Average loss at step 18000: 2.881052\n",
      "Average loss at step 20000: 2.854527\n",
      "Average loss at step 22000: 2.799672\n",
      "Average loss at step 24000: 2.688952\n",
      "Average loss at step 26000: 1.378508\n",
      "Average loss at step 28000: 1.444336\n",
      "Average loss at step 30000: 1.508199\n",
      "Average loss at step 32000: 1.509807\n",
      "Average loss at step 34000: 1.542219\n",
      "Average loss at step 36000: 1.561338\n",
      "Average loss at step 38000: 1.581813\n",
      "Average loss at step 40000: 1.598038\n",
      "Average loss at step 42000: 1.599657\n",
      "Average loss at step 44000: 1.614385\n",
      "Average loss at step 46000: 1.615477\n",
      "Average loss at step 48000: 1.591394\n",
      "Average loss at step 50000: 1.186858\n",
      "Average loss at step 52000: 1.237981\n",
      "Average loss at step 54000: 1.282545\n",
      "Average loss at step 56000: 1.271077\n",
      "Average loss at step 58000: 1.300552\n",
      "Average loss at step 60000: 1.312267\n",
      "Average loss at step 62000: 1.320545\n",
      "Average loss at step 64000: 1.325358\n",
      "Average loss at step 66000: 1.330570\n",
      "Average loss at step 68000: 1.333663\n",
      "Average loss at step 70000: 1.337948\n",
      "Average loss at step 72000: 1.314483\n",
      "Average loss at step 74000: 1.092373\n",
      "Average loss at step 76000: 1.141463\n",
      "Average loss at step 78000: 1.169922\n",
      "Average loss at step 80000: 1.163933\n",
      "Average loss at step 82000: 1.185815\n",
      "Average loss at step 84000: 1.181359\n",
      "Average loss at step 86000: 1.190147\n",
      "Average loss at step 88000: 1.191127\n",
      "Average loss at step 90000: 1.196500\n",
      "Average loss at step 92000: 1.197236\n",
      "Average loss at step 94000: 1.199953\n",
      "Average loss at step 96000: 1.166061\n",
      "Average loss at step 98000: 1.037137\n",
      "Average loss at step 100000: 1.077682\n"
     ]
    },
    {
     "data": {
      "text/plain": [
       "Doc2Vec(architecture='pvdm', batch_size=128, concat=True, document_size=31905,\n",
       "    embedding_size_d=100, embedding_size_w=100, learning_rate=0.1,\n",
       "    loss_type='sampled_softmax_loss', n_neg_samples=64, n_steps=100001,\n",
       "    optimize='Adagrad', vocabulary_size=50000, window_size=8)"
      ]
     },
     "execution_count": 6,
     "metadata": {},
     "output_type": "execute_result"
    }
   ],
   "source": []
  },
  {
   "cell_type": "code",
   "execution_count": 8,
   "metadata": {
    "collapsed": false
   },
   "outputs": [
    {
     "name": "stdout",
     "output_type": "stream",
     "text": [
      "Model saved in file: models/pvdm_100/model.ckpt\n",
      "models/pvdm_100/model.ckpt\n"
     ]
    }
   ],
   "source": [
    "print pvdm.save('models/pvdm_100/')"
   ]
  },
  {
   "cell_type": "code",
   "execution_count": 28,
   "metadata": {
    "collapsed": false
   },
   "outputs": [
    {
     "name": "stdout",
     "output_type": "stream",
     "text": [
      "Initialized\n",
      "Average loss at step 0: 8.556091\n",
      "Average loss at step 2000: 4.576419\n",
      "Average loss at step 4000: 4.149445\n"
     ]
    },
    {
     "data": {
      "text/plain": [
       "Doc2Vec(architecture='pvdm', batch_size=128, concat=False,\n",
       "    document_size=31905, embedding_size_d=100, embedding_size_w=100,\n",
       "    learning_rate=0.025, loss_type='sampled_softmax_loss',\n",
       "    n_neg_samples=64, n_steps=5001, optimize='Adagrad',\n",
       "    vocabulary_size=50000, window_size=8)"
      ]
     },
     "execution_count": 28,
     "metadata": {},
     "output_type": "execute_result"
    }
   ],
   "source": [
    "# PV-DM model without concatenating word vectors and doc vector\n",
    "pvdm2 = Doc2Vec(batch_size=128, window_size=8, \n",
    "               concat=False, architecture='pvdm', \n",
    "               embedding_size_w=100, \n",
    "               embedding_size_d=100,\n",
    "               vocabulary_size=50000, document_size=len(alldocs),\n",
    "               loss_type='sampled_softmax_loss', n_neg_samples=64,\n",
    "               optimize='Adagrad', learning_rate=0.025, n_steps=5001)\n",
    "pvdm2.fit(alldocs)"
   ]
  },
  {
   "cell_type": "code",
   "execution_count": 10,
   "metadata": {
    "collapsed": false
   },
   "outputs": [
    {
     "name": "stdout",
     "output_type": "stream",
     "text": [
      "Model saved in file: models/pvdm2_100/model.ckpt\n",
      "models/pvdm2_100/model.ckpt\n"
     ]
    }
   ],
   "source": [
    "print pvdm2.save('models/pvdm2_100/')"
   ]
  },
  {
   "cell_type": "code",
   "execution_count": 29,
   "metadata": {
    "collapsed": false
   },
   "outputs": [
    {
     "name": "stdout",
     "output_type": "stream",
     "text": [
      "(1785, 200)\n"
     ]
    }
   ],
   "source": [
    "embedding_mat = np.hstack((pvdm.doc_embeddings, pvdm2.doc_embeddings))[np.in1d(df.index, df_labeled.index)]\n",
    "print embedding_mat.shape"
   ]
  },
  {
   "cell_type": "code",
   "execution_count": 32,
   "metadata": {
    "collapsed": false
   },
   "outputs": [
    {
     "name": "stdout",
     "output_type": "stream",
     "text": [
      "Step #100, epoch #10, avg. train loss: 1.03064\n",
      "Step #200, epoch #20, avg. train loss: 0.89497\n",
      "Step #300, epoch #30, avg. train loss: 0.86816\n",
      "Step #400, epoch #40, avg. train loss: 0.84719\n",
      "Step #500, epoch #50, avg. train loss: 0.82077\n",
      "Step #100, epoch #10, avg. train loss: 1.03507\n",
      "Step #200, epoch #20, avg. train loss: 0.90456\n",
      "Step #300, epoch #30, avg. train loss: 0.88563\n",
      "Step #400, epoch #40, avg. train loss: 0.86475\n",
      "Step #500, epoch #50, avg. train loss: 0.84810\n",
      "Step #100, epoch #10, avg. train loss: 1.03011\n",
      "Step #200, epoch #20, avg. train loss: 0.90006\n",
      "Step #300, epoch #30, avg. train loss: 0.87678\n",
      "Step #400, epoch #40, avg. train loss: 0.86105\n",
      "Step #500, epoch #50, avg. train loss: 0.83865\n",
      "f1          0.459738\n",
      "accuracy    0.581510\n",
      "logloss     0.989088\n",
      "dtype: float64\n"
     ]
    }
   ],
   "source": [
    "y = df_labeled['label_code'].values\n",
    "\n",
    "clf = learn.TensorFlowDNNClassifier(hidden_units=[100, 10], n_classes=3,\n",
    "    steps=500, learning_rate=0.05, batch_size=128)\n",
    "\n",
    "# 0.784892\n",
    "\n",
    "# 0.637533\n",
    "\n",
    "scores = evaluate_clf(clf, embedding_mat, y, df_labeled['split'])\n",
    "print scores.mean(axis=0)"
   ]
  }
 ],
 "metadata": {
  "kernelspec": {
   "display_name": "Python 2",
   "language": "python",
   "name": "python2"
  },
  "language_info": {
   "codemirror_mode": {
    "name": "ipython",
    "version": 2
   },
   "file_extension": ".py",
   "mimetype": "text/x-python",
   "name": "python",
   "nbconvert_exporter": "python",
   "pygments_lexer": "ipython2",
   "version": "2.7.6"
  }
 },
 "nbformat": 4,
 "nbformat_minor": 0
}
