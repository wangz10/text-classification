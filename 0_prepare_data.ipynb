{
 "cells": [
  {
   "cell_type": "markdown",
   "metadata": {},
   "source": [
    "0. Prepare data for text classification tutorial\n",
    "---\n",
    "\n",
    "For the ease of access and management, I downloaded all the texts and other metadata associated with all GSEs performed in mammals (human, mouse, rat) and store them into a `collection` of MongoDB named `meta`. \n",
    "\n",
    "Each documents is indexed by GSE/GSM as `id`. The data downloading was performed using `Bio.Entrez` module using the following query:\n",
    "\n",
    "```python\n",
    "handle = Entrez.esearch(db=\"gds\", \n",
    "\tterm='(\"homo sapiens\"[Organism] OR \"mus musculus\"[Organism] OR \"rattus norvegicus\"[Organism]) AND \"gse\"[Filter] AND \"Expression profiling by array\"', \n",
    "\tretmode=\"xml\", retmax=40000)\n",
    "```"
   ]
  },
  {
   "cell_type": "code",
   "execution_count": 24,
   "metadata": {
    "collapsed": false
   },
   "outputs": [],
   "source": [
    "import os\n",
    "import cPickle as pickle\n",
    "import numpy as np\n",
    "import pandas as pd\n",
    "from pymongo import MongoClient\n",
    "from sklearn.cross_validation import StratifiedKFold\n",
    "from sklearn.preprocessing import LabelEncoder"
   ]
  },
  {
   "cell_type": "code",
   "execution_count": 2,
   "metadata": {
    "collapsed": true
   },
   "outputs": [],
   "source": [
    "# Connect to MongoDB\n",
    "client = MongoClient('mongodb://127.0.0.1:27017/')\n",
    "db = client['microtask_signatures']\n",
    "COLL_META = db['meta']"
   ]
  },
  {
   "cell_type": "code",
   "execution_count": 3,
   "metadata": {
    "collapsed": false
   },
   "outputs": [
    {
     "name": "stdout",
     "output_type": "stream",
     "text": [
      "unique GSEs found: 31905 \n"
     ]
    }
   ],
   "source": [
    "# Find all GSEs in the collection\n",
    "cur = COLL_META.find({'id': {'$regex': r'^GSE[0-9]*'}}, \n",
    "                     projection={'_id':False, 'id':True, 'Series_title':True, 'Series_summary':True})\n",
    "print 'unique GSEs found: %d '% cur.count()"
   ]
  },
  {
   "cell_type": "code",
   "execution_count": 4,
   "metadata": {
    "collapsed": false
   },
   "outputs": [
    {
     "name": "stdout",
     "output_type": "stream",
     "text": [
      "(31905, 2)\n"
     ]
    },
    {
     "data": {
      "text/html": [
       "<div style=\"max-height:1000px;max-width:1500px;overflow:auto;\">\n",
       "<table border=\"1\" class=\"dataframe\">\n",
       "  <thead>\n",
       "    <tr style=\"text-align: right;\">\n",
       "      <th></th>\n",
       "      <th>Series_summary</th>\n",
       "      <th>Series_title</th>\n",
       "    </tr>\n",
       "    <tr>\n",
       "      <th>id</th>\n",
       "      <th></th>\n",
       "      <th></th>\n",
       "    </tr>\n",
       "  </thead>\n",
       "  <tbody>\n",
       "    <tr>\n",
       "      <th>GSE1</th>\n",
       "      <td>[This series represents a group of cutaneous m...</td>\n",
       "      <td>NHGRI_Melanoma_class</td>\n",
       "    </tr>\n",
       "    <tr>\n",
       "      <th>GSE1000</th>\n",
       "      <td>[Amino acid conjugated surfaces and controls a...</td>\n",
       "      <td>Osteosarcoma TE85 cell tissue culture study</td>\n",
       "    </tr>\n",
       "    <tr>\n",
       "      <th>GSE10000</th>\n",
       "      <td>[We previously observed that formation of aort...</td>\n",
       "      <td>Age-dependent aorta transcriptomes in wild-typ...</td>\n",
       "    </tr>\n",
       "    <tr>\n",
       "      <th>GSE10001</th>\n",
       "      <td>[The thyroid hormone receptor (TR) has been pr...</td>\n",
       "      <td>Gene expression profiling in NCoR deficient mo...</td>\n",
       "    </tr>\n",
       "    <tr>\n",
       "      <th>GSE10002</th>\n",
       "      <td>[Primitive erythropoiesis in the mouse yolk sa...</td>\n",
       "      <td>Identification of Erythroid-Enriched Gene Expr...</td>\n",
       "    </tr>\n",
       "  </tbody>\n",
       "</table>\n",
       "</div>"
      ],
      "text/plain": [
       "                                             Series_summary  \\\n",
       "id                                                            \n",
       "GSE1      [This series represents a group of cutaneous m...   \n",
       "GSE1000   [Amino acid conjugated surfaces and controls a...   \n",
       "GSE10000  [We previously observed that formation of aort...   \n",
       "GSE10001  [The thyroid hormone receptor (TR) has been pr...   \n",
       "GSE10002  [Primitive erythropoiesis in the mouse yolk sa...   \n",
       "\n",
       "                                               Series_title  \n",
       "id                                                           \n",
       "GSE1                                   NHGRI_Melanoma_class  \n",
       "GSE1000         Osteosarcoma TE85 cell tissue culture study  \n",
       "GSE10000  Age-dependent aorta transcriptomes in wild-typ...  \n",
       "GSE10001  Gene expression profiling in NCoR deficient mo...  \n",
       "GSE10002  Identification of Erythroid-Enriched Gene Expr...  "
      ]
     },
     "execution_count": 4,
     "metadata": {},
     "output_type": "execute_result"
    }
   ],
   "source": [
    "# Fetch the texts associated with them and make a pd.DataFrame\n",
    "docs = [doc for doc in cur]\n",
    "df = pd.DataFrame.from_records(docs).set_index('id')\n",
    "del docs\n",
    "print df.shape\n",
    "df.head()"
   ]
  },
  {
   "cell_type": "markdown",
   "metadata": {},
   "source": [
    "#### Some cleaning-ups need to be done for the data: \n",
    "\n",
    "1. `Series_summay` fields might be list of paragraphs if there are multiple paragraphs, which need to be concatenatated.\n",
    "2. Some rows have missing data currently filled by `np.nan`s, which need to be converted to strings."
   ]
  },
  {
   "cell_type": "code",
   "execution_count": 5,
   "metadata": {
    "collapsed": false
   },
   "outputs": [
    {
     "data": {
      "text/html": [
       "<div style=\"max-height:1000px;max-width:1500px;overflow:auto;\">\n",
       "<table border=\"1\" class=\"dataframe\">\n",
       "  <thead>\n",
       "    <tr style=\"text-align: right;\">\n",
       "      <th></th>\n",
       "      <th>Series_summary</th>\n",
       "      <th>Series_title</th>\n",
       "    </tr>\n",
       "    <tr>\n",
       "      <th>id</th>\n",
       "      <th></th>\n",
       "      <th></th>\n",
       "    </tr>\n",
       "  </thead>\n",
       "  <tbody>\n",
       "    <tr>\n",
       "      <th>GSE1</th>\n",
       "      <td>This series represents a group of cutaneous ma...</td>\n",
       "      <td>NHGRI_Melanoma_class</td>\n",
       "    </tr>\n",
       "    <tr>\n",
       "      <th>GSE1000</th>\n",
       "      <td>Amino acid conjugated surfaces and controls at...</td>\n",
       "      <td>Osteosarcoma TE85 cell tissue culture study</td>\n",
       "    </tr>\n",
       "    <tr>\n",
       "      <th>GSE10000</th>\n",
       "      <td>We previously observed that formation of aorta...</td>\n",
       "      <td>Age-dependent aorta transcriptomes in wild-typ...</td>\n",
       "    </tr>\n",
       "    <tr>\n",
       "      <th>GSE10001</th>\n",
       "      <td>The thyroid hormone receptor (TR) has been pro...</td>\n",
       "      <td>Gene expression profiling in NCoR deficient mo...</td>\n",
       "    </tr>\n",
       "    <tr>\n",
       "      <th>GSE10002</th>\n",
       "      <td>Primitive erythropoiesis in the mouse yolk sac...</td>\n",
       "      <td>Identification of Erythroid-Enriched Gene Expr...</td>\n",
       "    </tr>\n",
       "  </tbody>\n",
       "</table>\n",
       "</div>"
      ],
      "text/plain": [
       "                                             Series_summary  \\\n",
       "id                                                            \n",
       "GSE1      This series represents a group of cutaneous ma...   \n",
       "GSE1000   Amino acid conjugated surfaces and controls at...   \n",
       "GSE10000  We previously observed that formation of aorta...   \n",
       "GSE10001  The thyroid hormone receptor (TR) has been pro...   \n",
       "GSE10002  Primitive erythropoiesis in the mouse yolk sac...   \n",
       "\n",
       "                                               Series_title  \n",
       "id                                                           \n",
       "GSE1                                   NHGRI_Melanoma_class  \n",
       "GSE1000         Osteosarcoma TE85 cell tissue culture study  \n",
       "GSE10000  Age-dependent aorta transcriptomes in wild-typ...  \n",
       "GSE10001  Gene expression profiling in NCoR deficient mo...  \n",
       "GSE10002  Identification of Erythroid-Enriched Gene Expr...  "
      ]
     },
     "execution_count": 5,
     "metadata": {},
     "output_type": "execute_result"
    }
   ],
   "source": [
    "# Concat lists in Series_summary\n",
    "def maybe_concat(x):\n",
    "    if type(x) == list:\n",
    "        return ' '.join(x)\n",
    "    else:\n",
    "        return x\n",
    "df['Series_summary'] = df['Series_summary'].map(maybe_concat)\n",
    "# Fill na with ''\n",
    "df = df.fillna('')\n",
    "df.head()"
   ]
  },
  {
   "cell_type": "markdown",
   "metadata": {},
   "source": [
    "Next, we want to retrieve labels annoated by the crowd of these documents from annother `collection` named `signatures`. "
   ]
  },
  {
   "cell_type": "code",
   "execution_count": 6,
   "metadata": {
    "collapsed": false
   },
   "outputs": [
    {
     "name": "stdout",
     "output_type": "stream",
     "text": [
      "unique labeled signatures found: 1934\n"
     ]
    }
   ],
   "source": [
    "COLL = db['signatures']\n",
    "cur = COLL.find({'$and': [\n",
    "            {'chdir_sva_exp2': {'$exists': True}}, \n",
    "            {'version': '1.0'},\n",
    "            {\"incorrect\": {\"$ne\": True}}\n",
    "        ]}, projection={'_id':False, 'id':True, 'geo_id':True})\n",
    "print 'unique labeled signatures found: %d' % len(cur.distinct('geo_id'))"
   ]
  },
  {
   "cell_type": "code",
   "execution_count": 7,
   "metadata": {
    "collapsed": false
   },
   "outputs": [
    {
     "data": {
      "text/html": [
       "<div style=\"max-height:1000px;max-width:1500px;overflow:auto;\">\n",
       "<table border=\"1\" class=\"dataframe\">\n",
       "  <thead>\n",
       "    <tr style=\"text-align: right;\">\n",
       "      <th></th>\n",
       "      <th>geo_id</th>\n",
       "      <th>id</th>\n",
       "    </tr>\n",
       "  </thead>\n",
       "  <tbody>\n",
       "    <tr>\n",
       "      <th>0</th>\n",
       "      <td>GSE763</td>\n",
       "      <td>drug:2721</td>\n",
       "    </tr>\n",
       "    <tr>\n",
       "      <th>1</th>\n",
       "      <td>GSE763</td>\n",
       "      <td>drug:2722</td>\n",
       "    </tr>\n",
       "    <tr>\n",
       "      <th>2</th>\n",
       "      <td>GSE763</td>\n",
       "      <td>drug:2724</td>\n",
       "    </tr>\n",
       "    <tr>\n",
       "      <th>3</th>\n",
       "      <td>GSE763</td>\n",
       "      <td>drug:2723</td>\n",
       "    </tr>\n",
       "    <tr>\n",
       "      <th>4</th>\n",
       "      <td>GSE581</td>\n",
       "      <td>dz:303</td>\n",
       "    </tr>\n",
       "  </tbody>\n",
       "</table>\n",
       "</div>"
      ],
      "text/plain": [
       "   geo_id         id\n",
       "0  GSE763  drug:2721\n",
       "1  GSE763  drug:2722\n",
       "2  GSE763  drug:2724\n",
       "3  GSE763  drug:2723\n",
       "4  GSE581     dz:303"
      ]
     },
     "execution_count": 7,
     "metadata": {},
     "output_type": "execute_result"
    }
   ],
   "source": [
    "df_labels = pd.DataFrame.from_records([doc for doc in cur])\n",
    "df_labels.head()"
   ]
  },
  {
   "cell_type": "code",
   "execution_count": 8,
   "metadata": {
    "collapsed": false
   },
   "outputs": [
    {
     "name": "stdout",
     "output_type": "stream",
     "text": [
      "(1785, 1)\n"
     ]
    },
    {
     "data": {
      "text/html": [
       "<div style=\"max-height:1000px;max-width:1500px;overflow:auto;\">\n",
       "<table border=\"1\" class=\"dataframe\">\n",
       "  <thead>\n",
       "    <tr style=\"text-align: right;\">\n",
       "      <th></th>\n",
       "      <th>label</th>\n",
       "    </tr>\n",
       "    <tr>\n",
       "      <th>geo_id</th>\n",
       "      <th></th>\n",
       "    </tr>\n",
       "  </thead>\n",
       "  <tbody>\n",
       "    <tr>\n",
       "      <th>GSE1001</th>\n",
       "      <td>dz</td>\n",
       "    </tr>\n",
       "    <tr>\n",
       "      <th>GSE10064</th>\n",
       "      <td>dz</td>\n",
       "    </tr>\n",
       "    <tr>\n",
       "      <th>GSE10082</th>\n",
       "      <td>gene</td>\n",
       "    </tr>\n",
       "    <tr>\n",
       "      <th>GSE1009</th>\n",
       "      <td>dz</td>\n",
       "    </tr>\n",
       "    <tr>\n",
       "      <th>GSE1010</th>\n",
       "      <td>dz</td>\n",
       "    </tr>\n",
       "  </tbody>\n",
       "</table>\n",
       "</div>"
      ],
      "text/plain": [
       "         label\n",
       "geo_id        \n",
       "GSE1001     dz\n",
       "GSE10064    dz\n",
       "GSE10082  gene\n",
       "GSE1009     dz\n",
       "GSE1010     dz"
      ]
     },
     "execution_count": 8,
     "metadata": {},
     "output_type": "execute_result"
    }
   ],
   "source": [
    "# Generate label column from `id`\n",
    "df_labels['label'] = df_labels['id'].map(lambda x: x.split(':')[0])\n",
    "\n",
    "# Remove `geo_id`s that have been annoatated with multiple labels\n",
    "# count unique labels for each geo_ids\n",
    "geo_labels = df_labels.groupby('geo_id')['label'].apply(lambda x: set(x))\n",
    "geo_label_counts =  geo_labels.map(lambda x: len(x))\n",
    "# get geo_ids with 1 label and unpack set\n",
    "geo_labels = geo_labels[geo_label_counts == 1].map(lambda x: list(x)[0])\n",
    "# convert to DataFrame\n",
    "geo_labels = geo_labels.to_frame()\n",
    "print geo_labels.shape\n",
    "geo_labels.head()"
   ]
  },
  {
   "cell_type": "code",
   "execution_count": 9,
   "metadata": {
    "collapsed": false
   },
   "outputs": [
    {
     "name": "stdout",
     "output_type": "stream",
     "text": [
      "(31905, 3)\n"
     ]
    },
    {
     "data": {
      "text/html": [
       "<div style=\"max-height:1000px;max-width:1500px;overflow:auto;\">\n",
       "<table border=\"1\" class=\"dataframe\">\n",
       "  <thead>\n",
       "    <tr style=\"text-align: right;\">\n",
       "      <th></th>\n",
       "      <th>Series_summary</th>\n",
       "      <th>Series_title</th>\n",
       "      <th>label</th>\n",
       "    </tr>\n",
       "    <tr>\n",
       "      <th>id</th>\n",
       "      <th></th>\n",
       "      <th></th>\n",
       "      <th></th>\n",
       "    </tr>\n",
       "  </thead>\n",
       "  <tbody>\n",
       "    <tr>\n",
       "      <th>GSE1</th>\n",
       "      <td>This series represents a group of cutaneous ma...</td>\n",
       "      <td>NHGRI_Melanoma_class</td>\n",
       "      <td>NaN</td>\n",
       "    </tr>\n",
       "    <tr>\n",
       "      <th>GSE1000</th>\n",
       "      <td>Amino acid conjugated surfaces and controls at...</td>\n",
       "      <td>Osteosarcoma TE85 cell tissue culture study</td>\n",
       "      <td>NaN</td>\n",
       "    </tr>\n",
       "    <tr>\n",
       "      <th>GSE10000</th>\n",
       "      <td>We previously observed that formation of aorta...</td>\n",
       "      <td>Age-dependent aorta transcriptomes in wild-typ...</td>\n",
       "      <td>NaN</td>\n",
       "    </tr>\n",
       "    <tr>\n",
       "      <th>GSE10001</th>\n",
       "      <td>The thyroid hormone receptor (TR) has been pro...</td>\n",
       "      <td>Gene expression profiling in NCoR deficient mo...</td>\n",
       "      <td>NaN</td>\n",
       "    </tr>\n",
       "    <tr>\n",
       "      <th>GSE10002</th>\n",
       "      <td>Primitive erythropoiesis in the mouse yolk sac...</td>\n",
       "      <td>Identification of Erythroid-Enriched Gene Expr...</td>\n",
       "      <td>NaN</td>\n",
       "    </tr>\n",
       "  </tbody>\n",
       "</table>\n",
       "</div>"
      ],
      "text/plain": [
       "                                             Series_summary  \\\n",
       "id                                                            \n",
       "GSE1      This series represents a group of cutaneous ma...   \n",
       "GSE1000   Amino acid conjugated surfaces and controls at...   \n",
       "GSE10000  We previously observed that formation of aorta...   \n",
       "GSE10001  The thyroid hormone receptor (TR) has been pro...   \n",
       "GSE10002  Primitive erythropoiesis in the mouse yolk sac...   \n",
       "\n",
       "                                               Series_title label  \n",
       "id                                                                 \n",
       "GSE1                                   NHGRI_Melanoma_class   NaN  \n",
       "GSE1000         Osteosarcoma TE85 cell tissue culture study   NaN  \n",
       "GSE10000  Age-dependent aorta transcriptomes in wild-typ...   NaN  \n",
       "GSE10001  Gene expression profiling in NCoR deficient mo...   NaN  \n",
       "GSE10002  Identification of Erythroid-Enriched Gene Expr...   NaN  "
      ]
     },
     "execution_count": 9,
     "metadata": {},
     "output_type": "execute_result"
    }
   ],
   "source": [
    "# LEFT JOIN the df with geo_labels ON geo_id\n",
    "df = df.merge(geo_labels, right_index=True, left_index=True, how='left')\n",
    "print df.shape\n",
    "df.head()"
   ]
  },
  {
   "cell_type": "code",
   "execution_count": 10,
   "metadata": {
    "collapsed": false
   },
   "outputs": [],
   "source": [
    "# We then save this full DataFrame for future use\n",
    "df.to_csv('data/GSEs_texts_with_labels.csv', encoding='utf-8')"
   ]
  },
  {
   "cell_type": "code",
   "execution_count": 18,
   "metadata": {
    "collapsed": false
   },
   "outputs": [
    {
     "name": "stdout",
     "output_type": "stream",
     "text": [
      "(1785, 3)\n"
     ]
    },
    {
     "data": {
      "text/html": [
       "<div style=\"max-height:1000px;max-width:1500px;overflow:auto;\">\n",
       "<table border=\"1\" class=\"dataframe\">\n",
       "  <thead>\n",
       "    <tr style=\"text-align: right;\">\n",
       "      <th></th>\n",
       "      <th>Series_summary</th>\n",
       "      <th>Series_title</th>\n",
       "      <th>label</th>\n",
       "    </tr>\n",
       "    <tr>\n",
       "      <th>id</th>\n",
       "      <th></th>\n",
       "      <th></th>\n",
       "      <th></th>\n",
       "    </tr>\n",
       "  </thead>\n",
       "  <tbody>\n",
       "    <tr>\n",
       "      <th>GSE1001</th>\n",
       "      <td>Sprague-Dawley rat retina post-injury and cont...</td>\n",
       "      <td>retina injury timecourse</td>\n",
       "      <td>dz</td>\n",
       "    </tr>\n",
       "    <tr>\n",
       "      <th>GSE10064</th>\n",
       "      <td>This study aims to determine if global gene ex...</td>\n",
       "      <td>Gene expression in immortalized B-lymphocytes ...</td>\n",
       "      <td>dz</td>\n",
       "    </tr>\n",
       "    <tr>\n",
       "      <th>GSE10082</th>\n",
       "      <td>Conventional biochemical and molecular techniq...</td>\n",
       "      <td>Aryl Hydrocarbon Receptor Regulates Distinct D...</td>\n",
       "      <td>gene</td>\n",
       "    </tr>\n",
       "    <tr>\n",
       "      <th>GSE1009</th>\n",
       "      <td>Gene expression profiling in glomeruli from hu...</td>\n",
       "      <td>Diabetic nephropathy</td>\n",
       "      <td>dz</td>\n",
       "    </tr>\n",
       "    <tr>\n",
       "      <th>GSE1010</th>\n",
       "      <td>RNA samples prepared from lymphoblastic cells ...</td>\n",
       "      <td>FCHL study</td>\n",
       "      <td>dz</td>\n",
       "    </tr>\n",
       "  </tbody>\n",
       "</table>\n",
       "</div>"
      ],
      "text/plain": [
       "                                             Series_summary  \\\n",
       "id                                                            \n",
       "GSE1001   Sprague-Dawley rat retina post-injury and cont...   \n",
       "GSE10064  This study aims to determine if global gene ex...   \n",
       "GSE10082  Conventional biochemical and molecular techniq...   \n",
       "GSE1009   Gene expression profiling in glomeruli from hu...   \n",
       "GSE1010   RNA samples prepared from lymphoblastic cells ...   \n",
       "\n",
       "                                               Series_title label  \n",
       "id                                                                 \n",
       "GSE1001                            retina injury timecourse    dz  \n",
       "GSE10064  Gene expression in immortalized B-lymphocytes ...    dz  \n",
       "GSE10082  Aryl Hydrocarbon Receptor Regulates Distinct D...  gene  \n",
       "GSE1009                                Diabetic nephropathy    dz  \n",
       "GSE1010                                          FCHL study    dz  "
      ]
     },
     "execution_count": 18,
     "metadata": {},
     "output_type": "execute_result"
    }
   ],
   "source": [
    "# Create another df storing labeled documents\n",
    "df_labeled = df.loc[~df['label'].isnull()]\n",
    "print df_labeled.shape\n",
    "df_labeled.head()"
   ]
  },
  {
   "cell_type": "code",
   "execution_count": 21,
   "metadata": {
    "collapsed": false
   },
   "outputs": [],
   "source": [
    "# encode the labels \n",
    "encoder = LabelEncoder()\n",
    "df_labeled.loc[:,'label_code'] = encoder.fit_transform(df_labeled['label'])"
   ]
  },
  {
   "cell_type": "code",
   "execution_count": 30,
   "metadata": {
    "collapsed": false
   },
   "outputs": [
    {
     "data": {
      "text/html": [
       "<div style=\"max-height:1000px;max-width:1500px;overflow:auto;\">\n",
       "<table border=\"1\" class=\"dataframe\">\n",
       "  <thead>\n",
       "    <tr style=\"text-align: right;\">\n",
       "      <th></th>\n",
       "      <th>Series_summary</th>\n",
       "      <th>Series_title</th>\n",
       "      <th>label</th>\n",
       "      <th>label_code</th>\n",
       "      <th>split</th>\n",
       "    </tr>\n",
       "    <tr>\n",
       "      <th>id</th>\n",
       "      <th></th>\n",
       "      <th></th>\n",
       "      <th></th>\n",
       "      <th></th>\n",
       "      <th></th>\n",
       "    </tr>\n",
       "  </thead>\n",
       "  <tbody>\n",
       "    <tr>\n",
       "      <th>GSE35961</th>\n",
       "      <td>Optimal treatment for nonalcoholic steatohepat...</td>\n",
       "      <td>Expression data from mouse liver treated with ...</td>\n",
       "      <td>drug</td>\n",
       "      <td>0</td>\n",
       "      <td>1</td>\n",
       "    </tr>\n",
       "    <tr>\n",
       "      <th>GSE51698</th>\n",
       "      <td>The gene expression profile of TAMs sorted fro...</td>\n",
       "      <td>The effect of imatinib therapy on tumor associ...</td>\n",
       "      <td>drug</td>\n",
       "      <td>0</td>\n",
       "      <td>2</td>\n",
       "    </tr>\n",
       "    <tr>\n",
       "      <th>GSE21946</th>\n",
       "      <td>Gamma tocotrienol induces apoptosis in breast ...</td>\n",
       "      <td>Expression data of MCF-7 cells treated with ga...</td>\n",
       "      <td>drug</td>\n",
       "      <td>0</td>\n",
       "      <td>0</td>\n",
       "    </tr>\n",
       "    <tr>\n",
       "      <th>GSE5230</th>\n",
       "      <td>Expression profiling the response to inhibitio...</td>\n",
       "      <td>Epigenetics of gene expression in human hepato...</td>\n",
       "      <td>drug</td>\n",
       "      <td>0</td>\n",
       "      <td>2</td>\n",
       "    </tr>\n",
       "    <tr>\n",
       "      <th>GSE2195</th>\n",
       "      <td>Immature (19/20 days of age) Alpk:APfCD-1 mice...</td>\n",
       "      <td>Phenotypic Anchoring of Gene Expression Change...</td>\n",
       "      <td>drug</td>\n",
       "      <td>0</td>\n",
       "      <td>0</td>\n",
       "    </tr>\n",
       "  </tbody>\n",
       "</table>\n",
       "</div>"
      ],
      "text/plain": [
       "                                             Series_summary  \\\n",
       "id                                                            \n",
       "GSE35961  Optimal treatment for nonalcoholic steatohepat...   \n",
       "GSE51698  The gene expression profile of TAMs sorted fro...   \n",
       "GSE21946  Gamma tocotrienol induces apoptosis in breast ...   \n",
       "GSE5230   Expression profiling the response to inhibitio...   \n",
       "GSE2195   Immature (19/20 days of age) Alpk:APfCD-1 mice...   \n",
       "\n",
       "                                               Series_title label  label_code  \\\n",
       "id                                                                              \n",
       "GSE35961  Expression data from mouse liver treated with ...  drug           0   \n",
       "GSE51698  The effect of imatinib therapy on tumor associ...  drug           0   \n",
       "GSE21946  Expression data of MCF-7 cells treated with ga...  drug           0   \n",
       "GSE5230   Epigenetics of gene expression in human hepato...  drug           0   \n",
       "GSE2195   Phenotypic Anchoring of Gene Expression Change...  drug           0   \n",
       "\n",
       "          split  \n",
       "id               \n",
       "GSE35961      1  \n",
       "GSE51698      2  \n",
       "GSE21946      0  \n",
       "GSE5230       2  \n",
       "GSE2195       0  "
      ]
     },
     "execution_count": 30,
     "metadata": {},
     "output_type": "execute_result"
    }
   ],
   "source": [
    "# split the labeled df stratifying the labels\n",
    "cv = StratifiedKFold(df_labeled['label_code'])\n",
    "split = np.empty([df_labeled.shape[0]])\n",
    "for i, (_, valid_index) in enumerate(cv):\n",
    "    split[valid_index] = i\n",
    "\n",
    "df_labeled.loc[:, 'split'] = split\n",
    "df_labeled.sort('label_code').head()"
   ]
  },
  {
   "cell_type": "code",
   "execution_count": 32,
   "metadata": {
    "collapsed": false
   },
   "outputs": [],
   "source": [
    "# We then save this DataFrame for future use\n",
    "df_labeled.to_csv('data/Labeled_GSEs_texts_with_labels.csv', encoding='utf-8')"
   ]
  }
 ],
 "metadata": {
  "kernelspec": {
   "display_name": "Python 2",
   "language": "python",
   "name": "python2"
  },
  "language_info": {
   "codemirror_mode": {
    "name": "ipython",
    "version": 2
   },
   "file_extension": ".py",
   "mimetype": "text/x-python",
   "name": "python",
   "nbconvert_exporter": "python",
   "pygments_lexer": "ipython2",
   "version": "2.7.6"
  }
 },
 "nbformat": 4,
 "nbformat_minor": 0
}
